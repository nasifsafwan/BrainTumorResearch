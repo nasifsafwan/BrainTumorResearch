{
 "cells": [
  {
   "cell_type": "code",
   "execution_count": 1,
   "id": "40086331",
   "metadata": {},
   "outputs": [],
   "source": [
    "import timm\n",
    "import torch\n",
    "import torch.nn as nn\n",
    "import torch.optim as optim\n",
    "from torch.utils.data import DataLoader\n",
    "from torchvision import transforms\n",
    "from sklearn.metrics import accuracy_score, f1_score, recall_score, precision_score\n",
    "from dataset import BrainTumorDataset"
   ]
  },
  {
   "cell_type": "code",
   "execution_count": 6,
   "id": "8e9b8fb8",
   "metadata": {},
   "outputs": [],
   "source": [
    "# import os\n",
    "# from PIL import Image\n",
    "# import torch\n",
    "# from torch.utils.data import Dataset\n",
    "# from torchvision import transforms\n",
    "\n",
    "# class BrainTumorDataset(Dataset):\n",
    "#     def __init__(self, root_dir, transform=None, img_size=224):\n",
    "#         self.root_dir = root_dir\n",
    "#         self.transform = transform\n",
    "#         self.img_size = img_size\n",
    "#         self.classes = ['glioma_tumor', 'meningioma_tumor', 'no_tumor', 'pituitary_tumor']\n",
    "#         self.class_to_idx = {cls: idx for idx, cls in enumerate(self.classes)}\n",
    "#         self.image_paths, self.labels = self.process_images(root_dir)\n",
    "\n",
    "#     def __len__(self):\n",
    "#         return len(self.image_paths)\n",
    "    \n",
    "#     def __getitem__(self, idx):\n",
    "#         img_path = self.image_paths[idx]\n",
    "#         image = Image.open(img_path).convert('RGB')\n",
    "#         label = self.labels[idx]\n",
    "        \n",
    "#         if self.transform:\n",
    "#             image = self.transform(image)\n",
    "#         else:\n",
    "#             image = image.resize((self.img_size, self.img_size))\n",
    "#             image = transforms.ToTensor()(image)\n",
    "        \n",
    "#         return image, label\n",
    "\n",
    "#     def process_images(self, path):\n",
    "#         images = []\n",
    "#         labels = []\n",
    "#         for category in os.listdir(path):\n",
    "#             category_path = os.path.join(path, category)\n",
    "#             if os.path.isdir(category_path):  # Ensure it's a directory\n",
    "#                 for img_name in os.listdir(category_path):\n",
    "#                     img_path = os.path.join(category_path, img_name)\n",
    "#                     if self.is_image_file(img_path):\n",
    "#                         images.append(img_path)\n",
    "#                         labels.append(self.class_to_idx[category])\n",
    "#                     else:\n",
    "#                         print(f\"Warning: Skipping file {img_path} as it is not a valid image.\")\n",
    "#         return images, labels\n",
    "\n",
    "#     def is_image_file(self, filename):\n",
    "#         valid_image_extensions = [\".jpg\", \".jpeg\", \".png\", \".bmp\", \".tiff\"]\n",
    "#         if not any(filename.lower().endswith(ext) for ext in valid_image_extensions):\n",
    "#             return False\n",
    "#         try:\n",
    "#             Image.open(filename).verify()\n",
    "#             return True\n",
    "#         except (IOError, SyntaxError):\n",
    "#             return False"
   ]
  },
  {
   "cell_type": "code",
   "execution_count": 2,
   "id": "55969305",
   "metadata": {},
   "outputs": [],
   "source": [
    "# Data Transformations\n",
    "data_transforms = {\n",
    "    'train': transforms.Compose([\n",
    "        transforms.RandomResizedCrop(224),\n",
    "        transforms.RandomHorizontalFlip(),\n",
    "        transforms.ToTensor(),\n",
    "        transforms.Normalize([0.485, 0.456, 0.406], [0.229, 0.224, 0.225])\n",
    "    ]),\n",
    "    'val': transforms.Compose([\n",
    "        transforms.Resize(256),\n",
    "        transforms.CenterCrop(224),\n",
    "        transforms.ToTensor(),\n",
    "        transforms.Normalize([0.485, 0.456, 0.406], [0.229, 0.224, 0.225])\n",
    "    ]),\n",
    "}"
   ]
  },
  {
   "cell_type": "code",
   "execution_count": 3,
   "id": "9c8362c8",
   "metadata": {},
   "outputs": [
    {
     "name": "stdout",
     "output_type": "stream",
     "text": [
      "Warning: Skipping file /Users/nasifsafwan/Downloads/ML/BrainTumorResearch/tumordata/Training/glioma_tumor/.DS_Store as it is not a valid image.\n"
     ]
    }
   ],
   "source": [
    "train_dataset = BrainTumorDataset(root_dir='/Users/nasifsafwan/Downloads/ML/BrainTumorResearch/tumordata/Training/',\n",
    "                                 transform=data_transforms['train'])\n",
    "val_dataset = BrainTumorDataset(root_dir='/Users/nasifsafwan/Downloads/ML/BrainTumorResearch/tumordata/Testing/'\n",
    "                                 ,transform=data_transforms['val'])"
   ]
  },
  {
   "cell_type": "code",
   "execution_count": 4,
   "id": "bd8354ac",
   "metadata": {},
   "outputs": [],
   "source": [
    "train_loader = DataLoader(train_dataset,batch_size=32,shuffle=True, num_workers=4)\n",
    "val_loader = DataLoader(val_dataset, batch_size=32, shuffle=False, num_workers=4)"
   ]
  },
  {
   "cell_type": "code",
   "execution_count": 5,
   "id": "96a7010e",
   "metadata": {},
   "outputs": [],
   "source": [
    "model = timm.create_model('resnet18', pretrained=True, num_classes=4)"
   ]
  },
  {
   "cell_type": "code",
   "execution_count": 6,
   "id": "0db7e718",
   "metadata": {},
   "outputs": [],
   "source": [
    "criterion = nn.CrossEntropyLoss()\n",
    "optimizer = optim.Adam(model.parameters(), lr=0.001)"
   ]
  },
  {
   "cell_type": "code",
   "execution_count": 7,
   "id": "3db66b2e",
   "metadata": {
    "scrolled": true
   },
   "outputs": [
    {
     "name": "stderr",
     "output_type": "stream",
     "text": [
      "Epoch 1/10: 100%|███████████████████████████████████████| 90/90 [02:49<00:00,  1.89s/it, loss=0.716]\n"
     ]
    },
    {
     "name": "stdout",
     "output_type": "stream",
     "text": [
      "Epoch 1/10, Loss: 0.7185\n"
     ]
    },
    {
     "name": "stderr",
     "output_type": "stream",
     "text": [
      "Epoch 2/10: 100%|███████████████████████████████████████| 90/90 [02:49<00:00,  1.88s/it, loss=0.366]\n"
     ]
    },
    {
     "name": "stdout",
     "output_type": "stream",
     "text": [
      "Epoch 2/10, Loss: 0.3672\n"
     ]
    },
    {
     "name": "stderr",
     "output_type": "stream",
     "text": [
      "Epoch 3/10: 100%|███████████████████████████████████████| 90/90 [02:49<00:00,  1.88s/it, loss=0.294]\n"
     ]
    },
    {
     "name": "stdout",
     "output_type": "stream",
     "text": [
      "Epoch 3/10, Loss: 0.2952\n"
     ]
    },
    {
     "name": "stderr",
     "output_type": "stream",
     "text": [
      "Epoch 4/10: 100%|███████████████████████████████████████| 90/90 [02:53<00:00,  1.92s/it, loss=0.254]\n"
     ]
    },
    {
     "name": "stdout",
     "output_type": "stream",
     "text": [
      "Epoch 4/10, Loss: 0.2550\n"
     ]
    },
    {
     "name": "stderr",
     "output_type": "stream",
     "text": [
      "Epoch 5/10: 100%|███████████████████████████████████████| 90/90 [07:30<00:00,  5.01s/it, loss=0.203]\n"
     ]
    },
    {
     "name": "stdout",
     "output_type": "stream",
     "text": [
      "Epoch 5/10, Loss: 0.2042\n"
     ]
    },
    {
     "name": "stderr",
     "output_type": "stream",
     "text": [
      "Epoch 6/10: 100%|███████████████████████████████████████| 90/90 [02:49<00:00,  1.88s/it, loss=0.206]\n"
     ]
    },
    {
     "name": "stdout",
     "output_type": "stream",
     "text": [
      "Epoch 6/10, Loss: 0.2063\n"
     ]
    },
    {
     "name": "stderr",
     "output_type": "stream",
     "text": [
      "Epoch 7/10: 100%|███████████████████████████████████████| 90/90 [02:49<00:00,  1.89s/it, loss=0.188]\n"
     ]
    },
    {
     "name": "stdout",
     "output_type": "stream",
     "text": [
      "Epoch 7/10, Loss: 0.1886\n"
     ]
    },
    {
     "name": "stderr",
     "output_type": "stream",
     "text": [
      "Epoch 8/10: 100%|███████████████████████████████████████| 90/90 [02:52<00:00,  1.92s/it, loss=0.207]\n"
     ]
    },
    {
     "name": "stdout",
     "output_type": "stream",
     "text": [
      "Epoch 8/10, Loss: 0.2080\n"
     ]
    },
    {
     "name": "stderr",
     "output_type": "stream",
     "text": [
      "Epoch 9/10: 100%|███████████████████████████████████████| 90/90 [02:53<00:00,  1.93s/it, loss=0.203]\n"
     ]
    },
    {
     "name": "stdout",
     "output_type": "stream",
     "text": [
      "Epoch 9/10, Loss: 0.2041\n"
     ]
    },
    {
     "name": "stderr",
     "output_type": "stream",
     "text": [
      "Epoch 10/10: 100%|██████████████████████████████████████| 90/90 [02:52<00:00,  1.92s/it, loss=0.157]"
     ]
    },
    {
     "name": "stdout",
     "output_type": "stream",
     "text": [
      "Epoch 10/10, Loss: 0.1571\n"
     ]
    },
    {
     "name": "stderr",
     "output_type": "stream",
     "text": [
      "\n"
     ]
    }
   ],
   "source": [
    "from tqdm import tqdm\n",
    "\n",
    "num_epochs = 10\n",
    "for epoch in range(num_epochs):\n",
    "    model.train()\n",
    "    running_loss = 0.0\n",
    "    train_bar = tqdm(train_loader, desc=f\"Epoch {epoch+1}/{num_epochs}\", ncols=100)  # Add tqdm progress bar\n",
    "    \n",
    "    for inputs, labels in train_bar:\n",
    "        optimizer.zero_grad()\n",
    "        outputs = model(inputs)\n",
    "        loss = criterion(outputs, labels)\n",
    "        loss.backward()\n",
    "        optimizer.step()\n",
    "        running_loss += loss.item() * inputs.size(0)\n",
    "        train_bar.set_postfix(loss=running_loss / ((train_bar.n + 1) * train_loader.batch_size))\n",
    "\n",
    "    epoch_loss = running_loss / len(train_loader.dataset)\n",
    "    print(f'Epoch {epoch+1}/{num_epochs}, Loss: {epoch_loss:.4f}')"
   ]
  },
  {
   "cell_type": "code",
   "execution_count": 14,
   "id": "5b412034",
   "metadata": {},
   "outputs": [],
   "source": [
    "from scipy.spatial.distance import directed_hausdorff\n",
    "\n",
    "# Dice Coefficient\n",
    "def dice_coefficient(pred, target):\n",
    "    smooth = 1e-6\n",
    "    pred = pred.view(-1)\n",
    "    target = target.view(-1)\n",
    "    intersection = (pred * target).sum()\n",
    "    return (2. * intersection + smooth) / (pred.sum() + target.sum() + smooth)\n",
    "\n",
    "# Hausdorff Distance\n",
    "def hausdorff_distance(pred, target):\n",
    "    pred_points = np.argwhere(pred.cpu().numpy() == 1)\n",
    "    target_points = np.argwhere(target.cpu().numpy() == 1)\n",
    "    return max(directed_hausdorff(pred_points, target_points)[0], directed_hausdorff(target_points, pred_points)[0])\n",
    "\n",
    "# Mean Absolute Error\n",
    "def mean_absolute_error(pred, target):\n",
    "    return torch.mean(torch.abs(pred.float() - target.float()))\n",
    "\n",
    "# Mean Squared Error\n",
    "def mean_squared_error(pred, target):\n",
    "    return torch.mean((pred.float() - target.float()) ** 2)"
   ]
  },
  {
   "cell_type": "code",
   "execution_count": 16,
   "id": "72dd1d12",
   "metadata": {},
   "outputs": [
    {
     "name": "stderr",
     "output_type": "stream",
     "text": [
      "Validation: 100%|███████████████████████████████████████████████████| 13/13 [00:29<00:00,  2.30s/it]"
     ]
    },
    {
     "name": "stdout",
     "output_type": "stream",
     "text": [
      "Epoch 10/10, Accuracy: 0.7462, Dice: 1.4284, Hausdorff: inf, MAE: 0.3870, MSE: 0.6582\n"
     ]
    },
    {
     "name": "stderr",
     "output_type": "stream",
     "text": [
      "\n"
     ]
    }
   ],
   "source": [
    "import numpy as np\n",
    "# Validation step\n",
    "model.eval()\n",
    "running_corrects = 0\n",
    "dice_scores = []\n",
    "hausdorff_distances = []\n",
    "mae_scores = []\n",
    "mse_scores = []\n",
    "    \n",
    "val_bar = tqdm(val_loader, desc=\"Validation\", ncols=100)  # Add tqdm progress bar for validation\n",
    "with torch.no_grad():\n",
    "    for inputs, labels in val_bar:\n",
    "        outputs = model(inputs)\n",
    "        _, preds = torch.max(outputs, 1)\n",
    "        running_corrects += torch.sum(preds == labels.data)\n",
    "            \n",
    "        # Calculate metrics\n",
    "        dice_scores.append(dice_coefficient(preds, labels).item())\n",
    "        hausdorff_distances.append(hausdorff_distance(preds, labels))\n",
    "        mae_scores.append(mean_absolute_error(preds, labels).item())\n",
    "        mse_scores.append(mean_squared_error(preds, labels).item())\n",
    "    \n",
    "epoch_acc = running_corrects.double() / len(val_loader.dataset)\n",
    "epoch_dice = np.mean(dice_scores)\n",
    "epoch_hausdorff = np.mean(hausdorff_distances)\n",
    "epoch_mae = np.mean(mae_scores)\n",
    "epoch_mse = np.mean(mse_scores)\n",
    "    \n",
    "print(f'Epoch {epoch+1}/{num_epochs}, Accuracy: {epoch_acc:.4f}, Dice: {epoch_dice:.4f}, Hausdorff: {epoch_hausdorff:.4f}, MAE: {epoch_mae:.4f}, MSE: {epoch_mse:.4f}')"
   ]
  },
  {
   "cell_type": "code",
   "execution_count": 17,
   "id": "1606e308",
   "metadata": {},
   "outputs": [],
   "source": [
    "torch.save(model.state_dict(), 'resnet_model.pth')"
   ]
  },
  {
   "cell_type": "code",
   "execution_count": null,
   "id": "9c44b5e2",
   "metadata": {},
   "outputs": [],
   "source": []
  }
 ],
 "metadata": {
  "kernelspec": {
   "display_name": "Python 3 (ipykernel)",
   "language": "python",
   "name": "python3"
  },
  "language_info": {
   "codemirror_mode": {
    "name": "ipython",
    "version": 3
   },
   "file_extension": ".py",
   "mimetype": "text/x-python",
   "name": "python",
   "nbconvert_exporter": "python",
   "pygments_lexer": "ipython3",
   "version": "3.11.7"
  }
 },
 "nbformat": 4,
 "nbformat_minor": 5
}
